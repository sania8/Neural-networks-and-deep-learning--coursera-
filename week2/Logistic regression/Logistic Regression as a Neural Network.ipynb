{
 "cells": [
  {
   "cell_type": "code",
   "execution_count": 3,
   "id": "6fc8ce8d",
   "metadata": {},
   "outputs": [],
   "source": [
    "import numpy as np\n",
    "import matplotlib.pyplot as plt\n",
    "import h5py\n",
    "import scipy\n",
    "from PIL import Image\n",
    "from scipy import ndimage\n",
    "from lr_utils import load_dataset\n",
    "\n",
    "%matplotlib inline"
   ]
  },
  {
   "cell_type": "markdown",
   "id": "206e89b5",
   "metadata": {},
   "source": [
    "loading the data set"
   ]
  },
  {
   "cell_type": "code",
   "execution_count": 4,
   "id": "9a40731a",
   "metadata": {},
   "outputs": [],
   "source": [
    "import os\n",
    "import csv\n",
    "\n",
    "def create_csv(dataset_path, csv_filename):\n",
    "    with open(csv_filename, 'w', newline='') as csvfile:\n",
    "        csvwriter = csv.writer(csvfile)\n",
    "        csvwriter.writerow(['Filepath', 'Label'])\n",
    "\n",
    "        for class_folder in os.listdir(dataset_path):\n",
    "            class_path = os.path.join(dataset_path, class_folder)\n",
    "            if os.path.isdir(class_path):\n",
    "                for image_file in os.listdir(class_path):\n",
    "                    image_path = os.path.join(class_path, image_file)\n",
    "                    label = class_folder  # assuming the folder name is the label\n",
    "                    csvwriter.writerow([image_path, label])\n",
    "\n",
    "# Create CSV for training set\n",
    "create_csv('datasets/training_set', 'train_labels.csv')\n",
    "\n",
    "# Create CSV for test set\n",
    "create_csv('datasets/test_set', 'test_labels.csv')\n"
   ]
  },
  {
   "cell_type": "code",
   "execution_count": 39,
   "id": "5328a7f1",
   "metadata": {},
   "outputs": [
    {
     "name": "stdout",
     "output_type": "stream",
     "text": [
      "[[1 1 1 1 1 1 1 1 1 1 0 0 0 0 0 0 0 0 0]]\n"
     ]
    }
   ],
   "source": [
    "def load_dataset():\n",
    "    # Load the CSV files using Pandas\n",
    "    train_dataset = pd.read_csv('train_labels.csv')\n",
    "    test_dataset = pd.read_csv('test_labels.csv')\n",
    "\n",
    "    # Extract features (file paths) and labels\n",
    "    train_set_x_orig = np.array(train_dataset['Filepath'])\n",
    "    train_set_y_orig = np.array(train_dataset['Label'])\n",
    "\n",
    "    test_set_x_orig = np.array(test_dataset['Filepath'])\n",
    "    test_set_y_orig = np.array(test_dataset['Label'])\n",
    "\n",
    "    # Extract classes\n",
    "    classes = np.unique(train_set_y_orig)\n",
    "\n",
    "    # Reshape labels\n",
    "    train_set_y_orig = train_set_y_orig.reshape((1, train_set_y_orig.shape[0]))\n",
    "    test_set_y_orig = test_set_y_orig.reshape((1, test_set_y_orig.shape[0]))\n",
    "\n",
    "    return train_set_x_orig, train_set_y_orig, test_set_x_orig, test_set_y_orig, classes\n",
    "\n",
    "\n",
    "#Example usage of above code \n",
    "train_set_x_orig, train_set_y_orig, test_set_x_orig, test_set_y_orig, classes = load_dataset()"
   ]
  },
  {
   "cell_type": "code",
   "execution_count": 41,
   "id": "fd266103",
   "metadata": {},
   "outputs": [
    {
     "name": "stdout",
     "output_type": "stream",
     "text": [
      "1\n"
     ]
    }
   ],
   "source": [
    "x = train_set_y_orig\n",
    "print(len(x))\n"
   ]
  },
  {
   "cell_type": "code",
   "execution_count": 37,
   "id": "bdb4d7e7",
   "metadata": {},
   "outputs": [
    {
     "name": "stdout",
     "output_type": "stream",
     "text": [
      "1\n"
     ]
    }
   ],
   "source": [
    "x   = train_set_y_orig\n",
    "print(len(x))"
   ]
  },
  {
   "cell_type": "markdown",
   "id": "135550c3",
   "metadata": {},
   "source": [
    "now checking the shape of the data stored in the varaibles"
   ]
  },
  {
   "cell_type": "code",
   "execution_count": 8,
   "metadata": {},
   "outputs": [
    {
     "name": "stdout",
     "output_type": "stream",
     "text": [
      "['datasets/training_set\\\\cats\\\\cat_1.png'\n",
      " 'datasets/training_set\\\\cats\\\\cat_10.png'\n",
      " 'datasets/training_set\\\\cats\\\\cat_2.png'\n",
      " 'datasets/training_set\\\\cats\\\\cat_3.png'\n",
      " 'datasets/training_set\\\\cats\\\\cat_4.png'\n",
      " 'datasets/training_set\\\\cats\\\\cat_5.png'\n",
      " 'datasets/training_set\\\\cats\\\\cat_6.png'\n",
      " 'datasets/training_set\\\\cats\\\\cat_7.png'\n",
      " 'datasets/training_set\\\\cats\\\\cat_8.png'\n",
      " 'datasets/training_set\\\\cats\\\\cat_9.png'\n",
      " 'datasets/training_set\\\\dogs\\\\dog9.png'\n",
      " 'datasets/training_set\\\\dogs\\\\dog_1.png'\n",
      " 'datasets/training_set\\\\dogs\\\\dog_2.png'\n",
      " 'datasets/training_set\\\\dogs\\\\dog_3.png'\n",
      " 'datasets/training_set\\\\dogs\\\\dog_4.png'\n",
      " 'datasets/training_set\\\\dogs\\\\dog_5.png'\n",
      " 'datasets/training_set\\\\dogs\\\\dog_6.png'\n",
      " 'datasets/training_set\\\\dogs\\\\dog_7.png'\n",
      " 'datasets/training_set\\\\dogs\\\\dog_8.png']\n"
     ]
    }
   ],
   "source": [
    "x2 = np.array(train_set_x_orig)\n",
    "print(x2)\n"
   ]
  },
  {
   "cell_type": "markdown",
   "id": "ce48891a",
   "metadata": {},
   "source": [
    "As the answer is 1 it indicates that the array is a 1d array which contains all the labels of images wether it is cat or a dog"
   ]
  },
  {
   "cell_type": "code",
   "execution_count": 9,
   "id": "20ba5b19",
   "metadata": {},
   "outputs": [
    {
     "data": {
      "text/plain": [
       "<matplotlib.image.AxesImage at 0x1feebaac4d0>"
      ]
     },
     "execution_count": 9,
     "metadata": {},
     "output_type": "execute_result"
    },
    {
     "data": {
      "image/png": "[encoded data removed]",
      "text/plain": [
       "<Figure size 640x480 with 1 Axes>"
      ]
     },
     "metadata": {},
     "output_type": "display_data"
    }
   ],
   "source": [
    "# Example of a picture\n",
    "import matplotlib.pyplot as plt\n",
    "\n",
    "index = 5\n",
    "plt.imshow(plt.imread(train_set_x_orig[index]))\n",
    "\n"
   ]
  },
  {
   "cell_type": "code",
   "execution_count": 10,
   "id": "05c682c7",
   "metadata": {},
   "outputs": [
    {
     "name": "stdout",
     "output_type": "stream",
     "text": [
      "Image at 'datasets/training_set\\cats\\cat_1.png' has dimensions: 64 x 64\n",
      "Image at 'datasets/training_set\\cats\\cat_10.png' has dimensions: 64 x 64\n",
      "Image at 'datasets/training_set\\cats\\cat_2.png' has dimensions: 64 x 64\n",
      "Image at 'datasets/training_set\\cats\\cat_3.png' has dimensions: 64 x 64\n",
      "Image at 'datasets/training_set\\cats\\cat_4.png' has dimensions: 64 x 64\n",
      "Image at 'datasets/training_set\\cats\\cat_5.png' has dimensions: 64 x 64\n",
      "Image at 'datasets/training_set\\cats\\cat_6.png' has dimensions: 64 x 64\n",
      "Image at 'datasets/training_set\\cats\\cat_7.png' has dimensions: 64 x 64\n",
      "Image at 'datasets/training_set\\cats\\cat_8.png' has dimensions: 64 x 64\n",
      "Image at 'datasets/training_set\\cats\\cat_9.png' has dimensions: 64 x 64\n",
      "Image at 'datasets/training_set\\dogs\\dog9.png' has dimensions: 64 x 64\n",
      "Image at 'datasets/training_set\\dogs\\dog_1.png' has dimensions: 64 x 64\n",
      "Image at 'datasets/training_set\\dogs\\dog_2.png' has dimensions: 64 x 64\n",
      "Image at 'datasets/training_set\\dogs\\dog_3.png' has dimensions: 64 x 64\n",
      "Image at 'datasets/training_set\\dogs\\dog_4.png' has dimensions: 64 x 64\n",
      "Image at 'datasets/training_set\\dogs\\dog_5.png' has dimensions: 64 x 64\n",
      "Image at 'datasets/training_set\\dogs\\dog_6.png' has dimensions: 64 x 64\n",
      "Image at 'datasets/training_set\\dogs\\dog_7.png' has dimensions: 64 x 64\n",
      "Image at 'datasets/training_set\\dogs\\dog_8.png' has dimensions: 64 x 64\n"
     ]
    }
   ],
   "source": [
    "from PIL import Image\n",
    "import numpy as np\n",
    "\n",
    "# Assuming train_set_x is a 1D array containing file paths of training images\n",
    "for file_path in train_set_x_orig:\n",
    "    # Load the image using PIL\n",
    "    image = Image.open(file_path)\n",
    "\n",
    "    # Get and print the dimensions of the image\n",
    "    width, height = image.size\n",
    "    print(f\"Image at '{file_path}' has dimensions: {width} x {height}\")\n"
   ]
  },
  {
   "cell_type": "code",
   "execution_count": 11,
   "id": "dff861a5",
   "metadata": {},
   "outputs": [
    {
     "name": "stdout",
     "output_type": "stream",
     "text": [
      "Number of training examples: m_train = 19\n",
      "Number of testing examples: m_test = 19\n",
      "train_set_x shape: (19,)\n"
     ]
    }
   ],
   "source": [
    "### START CODE HERE ### (≈ 3 lines of code)\n",
    "m_train = train_set_x_orig.shape[0]\n",
    "m_test =  test_set_x_orig.shape[0]\n",
    "print (\"Number of training examples: m_train = \" + str(m_train))\n",
    "print (\"Number of testing examples: m_test = \" + str(m_test))\n",
    "print (\"train_set_x shape: \" + str(train_set_x_orig.shape))"
   ]
  },
  {
   "cell_type": "code",
   "execution_count": 12,
   "id": "7eafbb8a",
   "metadata": {},
   "outputs": [
    {
     "name": "stdout",
     "output_type": "stream",
     "text": [
      "Height/Width of each image: num_px = 64 x 64\n",
      "64\n"
     ]
    }
   ],
   "source": [
    "#computing value of num_px\n",
    "from PIL import Image\n",
    "\n",
    "# Example: Load the first image in train_set_x_orig\n",
    "first_image_path = train_set_x_orig[0]\n",
    "first_image = Image.open(first_image_path)\n",
    "\n",
    "# Get the dimensions of the first image\n",
    "num_px_height, num_px_width = first_image.size\n",
    "\n",
    "# Print the dimensions\n",
    "print(\"Height/Width of each image: num_px =\", num_px_height, \"x\", num_px_width)\n",
    "num_px = num_px_height\n",
    "print(num_px)"
   ]
  },
  {
   "cell_type": "code",
   "execution_count": 13,
   "id": "34a6ceb7",
   "metadata": {},
   "outputs": [
    {
     "name": "stdout",
     "output_type": "stream",
     "text": [
      "Number of training examples: m_train = 19\n",
      "Number of testing examples: m_test = 19\n",
      "Height/Width of each image: num_px = 64\n",
      "Each image is of size: (64, 64, 3)\n",
      "train_set_x shape: (19,)\n",
      "train_set_y shape: (1, 19)\n",
      "test_set_x shape: (19,)\n",
      "test_set_y shape: (1, 19)\n"
     ]
    }
   ],
   "source": [
    "### START CODE HERE ### (≈ 3 lines of code)\n",
    "m_train = train_set_x_orig.shape[0]\n",
    "m_test =  test_set_x_orig.shape[0]\n",
    "num_px = 64\n",
    "print (\"Number of training examples: m_train = \" + str(m_train))\n",
    "print (\"Number of testing examples: m_test = \" + str(m_test))\n",
    "print (\"Height/Width of each image: num_px = \" + str(num_px))\n",
    "print (\"Each image is of size: (\" + str(num_px) + \", \" + str(num_px) + \", 3)\")\n",
    "print (\"train_set_x shape: \" + str(train_set_x_orig.shape))\n",
    "print (\"train_set_y shape: \" + str(train_set_y_orig.shape))\n",
    "print (\"test_set_x shape: \" + str(test_set_x_orig.shape))\n",
    "print (\"test_set_y shape: \" + str(test_set_y_orig.shape))"
   ]
  },
  {
   "cell_type": "code",
   "execution_count": 14,
   "id": "80b14c6d",
   "metadata": {},
   "outputs": [
    {
     "name": "stdout",
     "output_type": "stream",
     "text": [
      "Number of training examples: m_train = 19\n",
      "Height/Width of each image: num_px = 64\n",
      "Each image is of size: (64, 64, 3)\n",
      "Resized train_set_x shape: (19, 64, 64, 3)\n"
     ]
    },
    {
     "name": "stderr",
     "output_type": "stream",
     "text": [
      "C:\\Users\\HP\\AppData\\Local\\Temp\\ipykernel_16512\\3964711535.py:10: DeprecationWarning: ANTIALIAS is deprecated and will be removed in Pillow 10 (2023-07-01). Use Resampling.LANCZOS instead.\n",
      "  return np.array(Image.open(file_path).resize(target_size, Image.ANTIALIAS))\n"
     ]
    }
   ],
   "source": [
    "from PIL import Image\n",
    "import numpy as np\n",
    "import os\n",
    "\n",
    "# Define the target size\n",
    "target_size = (64, 64)\n",
    "\n",
    "# Function to load and resize an image\n",
    "def load_and_resize(file_path):\n",
    "    return np.array(Image.open(file_path).resize(target_size, Image.ANTIALIAS))\n",
    "\n",
    "# Specify the path to the datasets folder\"\n",
    "datasets_path = 'C:/Users/HP/Downloads/neural networks and deep learning(coursera)/week2/Logistic regression/datasets'\n",
    "\n",
    "# Get the paths to the train and test folders\n",
    "train_path = os.path.join(datasets_path, 'training_set')\n",
    "test_path = os.path.join(datasets_path, 'test_set')\n",
    "\n",
    "# Get the list of file paths in train_set_x_orig\n",
    "train_set_x_orig = [os.path.join(root, file) for root, dirs, files in os.walk(train_path) for file in files]\n",
    "\n",
    "# Reshape images in train_set_x_orig\n",
    "resized_train_set_x = np.array([load_and_resize(file_path) for file_path in train_set_x_orig])\n",
    "resized_test_set_x = np.array([load_and_resize(file_path) for file_path in test_set_x_orig])\n",
    "# Print the shapes of the resized arrays\n",
    "print(\"Number of training examples: m_train =\", len(train_set_x_orig))\n",
    "print(\"Height/Width of each image: num_px =\", target_size[0])\n",
    "print(\"Each image is of size:\", target_size + (3,))\n",
    "print(\"Resized train_set_x shape:\", resized_train_set_x.shape)\n",
    "\n",
    "\n"
   ]
  },
  {
   "cell_type": "markdown",
   "id": "a8efba13",
   "metadata": {},
   "source": [
    "resized the arrays by loading each image and create a NumPy array containing the pixel values."
   ]
  },
  {
   "cell_type": "code",
   "execution_count": 15,
   "id": "5af5013b",
   "metadata": {},
   "outputs": [
    {
     "name": "stdout",
     "output_type": "stream",
     "text": [
      "Number of training examples: m_train = 19\n",
      "Number of testing examples: m_test = 19\n",
      "Height/Width of each image: num_px = 64\n",
      "Each image is of size: (64, 64, 3)\n",
      "train_set_x shape: (19, 64, 64, 3)\n",
      "train_set_x shape: (19, 64, 64, 3)\n",
      "train_set_y shape: (1, 19)\n",
      "test_set_y shape: (1, 19)\n"
     ]
    }
   ],
   "source": [
    "m_train = resized_train_set_x.shape[0]\n",
    "m_test =  resized_train_set_x.shape[0]\n",
    "num_px = resized_train_set_x.shape[1]\n",
    "print (\"Number of training examples: m_train = \" + str(m_train))\n",
    "print (\"Number of testing examples: m_test = \" + str(m_test))\n",
    "print (\"Height/Width of each image: num_px = \" + str(num_px))\n",
    "print (\"Each image is of size: (\" + str(num_px) + \", \" + str(num_px) + \", 3)\")\n",
    "print (\"train_set_x shape: \" + str(resized_train_set_x.shape))\n",
    "print (\"train_set_x shape: \" + str(resized_test_set_x.shape))\n",
    "print (\"train_set_y shape: \" + str(train_set_y_orig.shape))\n",
    "print (\"test_set_y shape: \" + str(test_set_y_orig.shape))\n"
   ]
  },
  {
   "cell_type": "code",
   "execution_count": 16,
   "id": "38322c1a",
   "metadata": {},
   "outputs": [
    {
     "name": "stdout",
     "output_type": "stream",
     "text": [
      "train_set_x_flatten shape: (12288, 19)\n",
      "train_set_y shape: (1, 19)\n",
      "test_set_x_flatten shape: (12288, 19)\n",
      "test_set_y shape: (1, 19)\n",
      "sanity check after reshaping: [169 189 204 210 196]\n"
     ]
    }
   ],
   "source": [
    "# Reshape the training and test examples\n",
    "\n",
    "### START CODE HERE ### (≈ 2 lines of code)\n",
    "train_set_x_flatten = resized_train_set_x.reshape(resized_train_set_x.shape[1]*resized_train_set_x.shape[2]*resized_train_set_x.shape[3],resized_train_set_x.shape[0])\n",
    "test_set_x_flatten = resized_train_set_x.reshape(resized_train_set_x.shape[1]*resized_train_set_x.shape[2]*resized_train_set_x.shape[3],resized_train_set_x.shape[0])\n",
    "### END CODE HERE ###\n",
    "\n",
    "print (\"train_set_x_flatten shape: \" + str(train_set_x_flatten.shape))\n",
    "print (\"train_set_y shape: \" + str(train_set_y_orig.shape))\n",
    "print (\"test_set_x_flatten shape: \" + str(test_set_x_flatten.shape))\n",
    "print (\"test_set_y shape: \" + str(test_set_y_orig.shape))\n",
    "print (\"sanity check after reshaping: \" + str(train_set_x_flatten[0:5,0]))"
   ]
  },
  {
   "cell_type": "markdown",
   "id": "8e010f85",
   "metadata": {},
   "source": [
    "the next step is standarisation . basically this is performed so that the data can have mean of 0 and standard deviation of 1 . and also to have consistency of scale "
   ]
  },
  {
   "cell_type": "code",
   "execution_count": 17,
   "id": "9ce55ced",
   "metadata": {},
   "outputs": [
    {
     "name": "stdout",
     "output_type": "stream",
     "text": [
      "[[0.6627451  0.63921569 0.63529412 ... 0.7254902  0.67843137 0.71764706]\n",
      " [0.74117647 0.69411765 0.73333333 ... 0.79215686 0.81568627 0.81960784]\n",
      " [0.8        0.81960784 0.83529412 ... 0.82352941 0.84705882 0.83137255]\n",
      " ...\n",
      " [0.70980392 0.84313725 0.36862745 ... 0.78431373 0.33333333 0.7372549 ]\n",
      " [0.88235294 0.34509804 0.70980392 ... 0.29019608 0.71764706 0.85098039]\n",
      " [0.38039216 0.70980392 0.83529412 ... 0.7254902  0.83529412 0.49803922]]\n"
     ]
    }
   ],
   "source": [
    "train_set_x = train_set_x_flatten / 255.0\n",
    "test_set_x = test_set_x_flatten / 255.0\n",
    "print(train_set_x)"
   ]
  },
  {
   "cell_type": "markdown",
   "id": "c47bd9a1",
   "metadata": {},
   "source": [
    "General Architecture of the learning algorithm"
   ]
  },
  {
   "cell_type": "code",
   "execution_count": 18,
   "id": "618fad0e",
   "metadata": {},
   "outputs": [],
   "source": [
    "# implementation of sigmoid function\n",
    "# GRADED FUNCTION: sigmoid\n",
    "\n",
    "def sigmoid(z):\n",
    "    \"\"\"\n",
    "    Compute the sigmoid of z\n",
    "\n",
    "    Arguments:\n",
    "    z -- A scalar or numpy array of any size.\n",
    "\n",
    "    Return:\n",
    "    s -- sigmoid(z)\n",
    "    \"\"\"\n",
    "\n",
    "    ### START CODE HERE ### (≈ 1 line of code)\n",
    "    s = 1/(1+np.exp(-z))\n",
    "    ### END CODE HERE ###\n",
    "    \n",
    "    return s"
   ]
  },
  {
   "cell_type": "code",
   "execution_count": 19,
   "id": "0b350fdb",
   "metadata": {},
   "outputs": [
    {
     "name": "stdout",
     "output_type": "stream",
     "text": [
      "sigmoid([0, 2]) = [0.5        0.88079708]\n"
     ]
    }
   ],
   "source": [
    "print (\"sigmoid([0, 2]) = \" + str(sigmoid(np.array([0,2]))))"
   ]
  },
  {
   "cell_type": "code",
   "execution_count": 20,
   "id": "949f2cca",
   "metadata": {},
   "outputs": [],
   "source": [
    "# GRADED FUNCTION: initialize_with_zeros\n",
    "\n",
    "def initialize_with_zeros(dim):\n",
    "    \"\"\"\n",
    "    This function creates a vector of zeros of shape (dim, 1) for w and initializes b to 0.\n",
    "    \n",
    "    Argument:\n",
    "    dim -- size of the w vector we want (or number of parameters in this case)\n",
    "    \n",
    "    Returns:\n",
    "    w -- initialized vector of shape (dim, 1)\n",
    "    b -- initialized scalar (corresponds to the bias)\n",
    "    \"\"\"\n",
    "    \n",
    "    ### START CODE HERE ### (≈ 1 line of code)\n",
    "    w = np.zeros((dim,1))\n",
    "    b = 0\n",
    "    ### END CODE HERE ###\n",
    "\n",
    "    assert(w.shape == (dim, 1))\n",
    "    assert(isinstance(b, float) or isinstance(b, int))\n",
    "    \n",
    "    return w, b"
   ]
  },
  {
   "cell_type": "code",
   "execution_count": 21,
   "id": "54aa8c4c",
   "metadata": {},
   "outputs": [
    {
     "name": "stdout",
     "output_type": "stream",
     "text": [
      "w = [[0.]\n",
      " [0.]\n",
      " [0.]\n",
      " [0.]\n",
      " [0.]\n",
      " [0.]\n",
      " [0.]\n",
      " [0.]\n",
      " [0.]\n",
      " [0.]\n",
      " [0.]\n",
      " [0.]\n",
      " [0.]\n",
      " [0.]\n",
      " [0.]\n",
      " [0.]\n",
      " [0.]\n",
      " [0.]\n",
      " [0.]\n",
      " [0.]\n",
      " [0.]\n",
      " [0.]\n",
      " [0.]\n",
      " [0.]\n",
      " [0.]\n",
      " [0.]\n",
      " [0.]\n",
      " [0.]\n",
      " [0.]\n",
      " [0.]\n",
      " [0.]\n",
      " [0.]\n",
      " [0.]\n",
      " [0.]\n",
      " [0.]\n",
      " [0.]\n",
      " [0.]\n",
      " [0.]\n",
      " [0.]\n",
      " [0.]\n",
      " [0.]\n",
      " [0.]\n",
      " [0.]\n",
      " [0.]\n",
      " [0.]\n",
      " [0.]\n",
      " [0.]\n",
      " [0.]\n",
      " [0.]\n",
      " [0.]\n",
      " [0.]\n",
      " [0.]\n",
      " [0.]\n",
      " [0.]\n",
      " [0.]\n",
      " [0.]\n",
      " [0.]\n",
      " [0.]\n",
      " [0.]\n",
      " [0.]\n",
      " [0.]\n",
      " [0.]\n",
      " [0.]\n",
      " [0.]]\n",
      "b = 0\n"
     ]
    }
   ],
   "source": [
    "\n",
    "w, b = initialize_with_zeros(num_px)\n",
    "print (\"w = \" + str(w))\n",
    "print (\"b = \" + str(b))"
   ]
  },
  {
   "cell_type": "markdown",
   "id": "53a20cef",
   "metadata": {},
   "source": [
    "But for image the dimension will be num_px*num_px*3 so again passing value"
   ]
  },
  {
   "cell_type": "code",
   "execution_count": 22,
   "id": "533b3cd3",
   "metadata": {},
   "outputs": [
    {
     "name": "stdout",
     "output_type": "stream",
     "text": [
      "w = [[0.]\n",
      " [0.]\n",
      " [0.]\n",
      " [0.]\n",
      " [0.]\n",
      " [0.]\n",
      " [0.]\n",
      " [0.]\n",
      " [0.]\n",
      " [0.]\n",
      " [0.]\n",
      " [0.]\n",
      " [0.]\n",
      " [0.]\n",
      " [0.]\n",
      " [0.]\n",
      " [0.]\n",
      " [0.]\n",
      " [0.]\n",
      " [0.]\n",
      " [0.]\n",
      " [0.]\n",
      " [0.]\n",
      " [0.]\n",
      " [0.]\n",
      " [0.]\n",
      " [0.]\n",
      " [0.]\n",
      " [0.]\n",
      " [0.]\n",
      " [0.]\n",
      " [0.]\n",
      " [0.]\n",
      " [0.]\n",
      " [0.]\n",
      " [0.]\n",
      " [0.]\n",
      " [0.]\n",
      " [0.]\n",
      " [0.]\n",
      " [0.]\n",
      " [0.]\n",
      " [0.]\n",
      " [0.]\n",
      " [0.]\n",
      " [0.]\n",
      " [0.]\n",
      " [0.]\n",
      " [0.]\n",
      " [0.]\n",
      " [0.]\n",
      " [0.]\n",
      " [0.]\n",
      " [0.]\n",
      " [0.]\n",
      " [0.]\n",
      " [0.]\n",
      " [0.]\n",
      " [0.]\n",
      " [0.]\n",
      " [0.]\n",
      " [0.]\n",
      " [0.]\n",
      " [0.]]\n",
      "b = 0\n"
     ]
    }
   ],
   "source": [
    "\n",
    "w, b = initialize_with_zeros(num_px)\n",
    "print (\"w = \" + str(w))\n",
    "print (\"b = \" + str(b))"
   ]
  },
  {
   "cell_type": "code",
   "execution_count": 23,
   "id": "7e7a0dca",
   "metadata": {},
   "outputs": [],
   "source": [
    "#forward and backward propagation\n",
    "def propagate(w, b, X, Y):\n",
    "    m = X.shape[1]\n",
    "    A = sigmoid(np.dot (w.T,X) +b)\n",
    "    Y = np.array(Y, dtype=float)  # Convert Y to a NumPy array with float data type\n",
    "    A = np.array(A)\n",
    "\n",
    "    cost = np.sum(((- np.log(A))*Y + (-np.log(1-A))*(1-Y)))/m  # compute cost\n",
    "    # backward propagation\n",
    "    dw = (np.dot(X,(A-Y).T))/m\n",
    "    db = (np.sum(A-Y))/m\n",
    "    # end here . \n",
    "    assert(dw.shape == w.shape)\n",
    "    assert(db.dtype == float)\n",
    "    cost = np.squeeze(cost)\n",
    "    assert(cost.shape == ())\n",
    "    grads = {\"dw\": dw,\n",
    "             \"db\": db}\n",
    "    \n",
    "    return grads, cost\n"
   ]
  },
  {
   "cell_type": "code",
   "execution_count": 24,
   "id": "1ca52002",
   "metadata": {},
   "outputs": [
    {
     "name": "stdout",
     "output_type": "stream",
     "text": [
      "dw = [[0.99845601]\n",
      " [2.39507239]]\n",
      "db = 0.001455578136784208\n",
      "cost = 5.801545319394553\n"
     ]
    }
   ],
   "source": [
    "w, b, X, Y = np.array([[1.],[2.]]), 2., np.array([[1.,2.,-1.],[3.,4.,-3.2]]), np.array([[1,0,1]])\n",
    "grads, cost = propagate(w, b, X, Y)\n",
    "print (\"dw = \" + str(grads[\"dw\"]))\n",
    "print (\"db = \" + str(grads[\"db\"]))\n",
    "print (\"cost = \" + str(cost))"
   ]
  },
  {
   "cell_type": "code",
   "execution_count": 25,
   "id": "609ec121",
   "metadata": {},
   "outputs": [],
   "source": [
    "# GRADED FUNCTION: optimize\n",
    "\n",
    "def optimize(w, b, X, Y, num_iterations, learning_rate, print_cost = False):\n",
    "    \"\"\"\n",
    "    This function optimizes w and b by running a gradient descent algorithm\n",
    "    \n",
    "    Arguments:\n",
    "    w -- weights, a numpy array of size (num_px * num_px * 3, 1)\n",
    "    b -- bias, a scalar\n",
    "    X -- data of shape (num_px * num_px * 3, number of examples)\n",
    "    Y -- true \"label\" vector (containing 0 if non-cat, 1 if cat), of shape (1, number of examples)\n",
    "    num_iterations -- number of iterations of the optimization loop\n",
    "    learning_rate -- learning rate of the gradient descent update rule\n",
    "    print_cost -- True to print the loss every 100 steps\n",
    "    \n",
    "    Returns:\n",
    "    params -- dictionary containing the weights w and bias b\n",
    "    grads -- dictionary containing the gradients of the weights and bias with respect to the cost function\n",
    "    costs -- list of all the costs computed during the optimization, this will be used to plot the learning curve.\n",
    "    \n",
    "    Tips:\n",
    "    You basically need to write down two steps and iterate through them:\n",
    "        1) Calculate the cost and the gradient for the current parameters. Use propagate().\n",
    "        2) Update the parameters using gradient descent rule for w and b.\n",
    "    \"\"\"\n",
    "    \n",
    "    costs = []\n",
    "    \n",
    "    for i in range(num_iterations):\n",
    "        \n",
    "        \n",
    "        # Cost and gradient calculation (≈ 1-4 lines of code)\n",
    "        ### START CODE HERE ### \n",
    "        grads, cost = propagate(w, b, X, Y)\n",
    "        ### END CODE HERE ###\n",
    "        \n",
    "        # Retrieve derivatives from grads\n",
    "        dw = grads[\"dw\"]\n",
    "        db = grads[\"db\"]\n",
    "        \n",
    "        # update rule (≈ 2 lines of code)\n",
    "        ### START CODE HERE ###\n",
    "        w = w - (learning_rate*dw)\n",
    "        b = b - (learning_rate*db)\n",
    "        ### END CODE HERE ###\n",
    "        \n",
    "        # Record the costs\n",
    "        if i % 100 == 0:\n",
    "            costs.append(cost)\n",
    "        \n",
    "        # Print the cost every 100 training iterations\n",
    "        if print_cost and i % 100 == 0:\n",
    "            print (\"Cost after iteration %i: %f\" %(i, cost))\n",
    "    \n",
    "    params = {\"w\": w,\n",
    "              \"b\": b}\n",
    "    \n",
    "    grads = {\"dw\": dw,\n",
    "             \"db\": db}\n",
    "    \n",
    "    return params, grads, costs"
   ]
  },
  {
   "cell_type": "code",
   "execution_count": 26,
   "id": "d84d6361",
   "metadata": {},
   "outputs": [
    {
     "name": "stdout",
     "output_type": "stream",
     "text": [
      "w = [[0.19033591]\n",
      " [0.12259159]]\n",
      "b = 1.9253598300845747\n",
      "dw = [[0.67752042]\n",
      " [1.41625495]]\n",
      "db = 0.21919450454067654\n"
     ]
    }
   ],
   "source": [
    "params, grads, costs = optimize(w, b, X, Y, num_iterations= 100, learning_rate = 0.009, print_cost = False)\n",
    "\n",
    "print (\"w = \" + str(params[\"w\"]))\n",
    "print (\"b = \" + str(params[\"b\"]))\n",
    "print (\"dw = \" + str(grads[\"dw\"]))\n",
    "print (\"db = \" + str(grads[\"db\"]))"
   ]
  },
  {
   "cell_type": "code",
   "execution_count": 27,
   "id": "56816c8f",
   "metadata": {},
   "outputs": [
    {
     "data": {
      "text/plain": [
       "[<matplotlib.lines.Line2D at 0x1fefe202150>]"
      ]
     },
     "execution_count": 27,
     "metadata": {},
     "output_type": "execute_result"
    },
    {
     "data": {
      "image/png": "[encoded data removed]",
      "text/plain": [
       "<Figure size 640x480 with 1 Axes>"
      ]
     },
     "metadata": {},
     "output_type": "display_data"
    }
   ],
   "source": [
    "import matplotlib.pyplot as plt\n",
    "plt.plot(costs)"
   ]
  },
  {
   "cell_type": "code",
   "execution_count": 28,
   "id": "cc708d12",
   "metadata": {},
   "outputs": [],
   "source": [
    "# GRADED FUNCTION: predict\n",
    "\n",
    "def predict(w, b, X):\n",
    "    '''\n",
    "    Predict whether the label is 0 or 1 using learned logistic regression parameters (w, b)\n",
    "    \n",
    "    Arguments:\n",
    "    w -- weights, a numpy array of size (num_px * num_px * 3, 1)\n",
    "    b -- bias, a scalar\n",
    "    X -- data of size (num_px * num_px * 3, number of examples)\n",
    "    \n",
    "    Returns:\n",
    "    Y_prediction -- a numpy array (vector) containing all predictions (0/1) for the examples in X\n",
    "    '''\n",
    "    \n",
    "    m = X.shape[1]\n",
    "    Y_prediction = np.zeros((1,m))\n",
    "    w = w.reshape(X.shape[0], 1)\n",
    "    \n",
    "    # Compute vector \"A\" predicting the probabilities of a cat being present in the picture\n",
    "    ### START CODE HERE ### (≈ 1 line of code)\n",
    "    A = sigmoid(np.dot(w.T,X) + b)           # Dimentions = (1, m)\n",
    "    ### END CODE HERE ###\n",
    "    \n",
    "    #### WORKING SOLUTION 1: USING IF ELSE #### \n",
    "    #for i in range(A.shape[1]):\n",
    "        ## Convert probabilities A[0,i] to actual predictions p[0,i]\n",
    "        ### START CODE HERE ### (≈ 4 lines of code)\n",
    "        #if (A[0,i] >= 0.5):\n",
    "        #    Y_prediction[0, i] = 1\n",
    "        #else:\n",
    "        #    Y_prediction[0, i] = 0\n",
    "        ### END CODE HERE ###\n",
    "        \n",
    "    #### WORKING SOLUTION 2: ONE LINE ####\n",
    "    #for i in range(A.shape[1]):\n",
    "        ## Convert probabilities A[0,i] to actual predictions p[0,i]\n",
    "        ### START CODE HERE ### (≈ 4 lines of code)\n",
    "        #Y_prediction[0, i] = 1 if A[0,i] >=0.5 else 0\n",
    "        ### END CODE HERE ###\n",
    "    \n",
    "    #### WORKING SOLUTION 3: VECTORISED IMPLEMENTATION ####\n",
    "    Y_prediction = (A >= 0.5) * 1.0\n",
    "    \n",
    "    assert(Y_prediction.shape == (1, m))\n",
    "    \n",
    "    return Y_prediction"
   ]
  },
  {
   "cell_type": "code",
   "execution_count": 29,
   "id": "84864329",
   "metadata": {},
   "outputs": [
    {
     "name": "stdout",
     "output_type": "stream",
     "text": [
      "predictions = [[1. 1. 0.]]\n"
     ]
    }
   ],
   "source": [
    "w = np.array([[0.1124579],[0.23106775]])\n",
    "b = -0.3\n",
    "X = np.array([[1.,-1.1,-3.2],[1.2,2.,0.1]])\n",
    "print (\"predictions = \" + str(predict(w, b, X)))"
   ]
  },
  {
   "cell_type": "markdown",
   "id": "31e3ab21",
   "metadata": {},
   "source": [
    "Merge all functions to make a model"
   ]
  },
  {
   "cell_type": "code",
   "execution_count": 72,
   "id": "29650daa",
   "metadata": {},
   "outputs": [],
   "source": [
    "# GRADED FUNCTION: model\n",
    "\n",
    "def model(X_train, Y_train, X_test, Y_test, num_iterations = 2000, learning_rate = 0.5, print_cost = False):\n",
    "    w, b = initialize_with_zeros(X_train.shape[0])\n",
    "\n",
    "    # Gradient descent (≈ 1 line of code)\n",
    "    parameters, grads, costs = optimize(w, b, X_train, Y_train, num_iterations, learning_rate, print_cost)\n",
    "    \n",
    "    # Retrieve parameters w and b from dictionary \"parameters\"\n",
    "    w = parameters[\"w\"]\n",
    "    b = parameters[\"b\"]\n",
    "    \n",
    "    # Predict test/train set examples (≈ 2 lines of code)\n",
    "    Y_prediction_test = predict(w, b, X_test)\n",
    "    Y_prediction_train = predict(w, b, X_train)\n",
    "    ### END CODE HERE ###\n",
    "    # Print train/test Errors\n",
    "    print(\"train accuracy: {} %\".format(100 - np.mean(np.abs(Y_prediction_train - Y_train)) * 100))\n",
    "    print(\"test accuracy: {} %\".format(100 - np.mean(np.abs(Y_prediction_test - Y_test)) * 100))\n",
    "\n",
    "    \n",
    "    d = {\"costs\": costs,\n",
    "         \"Y_prediction_test\": Y_prediction_test, \n",
    "         \"Y_prediction_train\" : Y_prediction_train, \n",
    "         \"w\" : w, \n",
    "         \"b\" : b,\n",
    "         \"learning_rate\" : learning_rate,\n",
    "         \"num_iterations\": num_iterations}\n",
    "    return d"
   ]
  },
  {
   "cell_type": "code",
   "execution_count": 44,
   "id": "b1af43fc",
   "metadata": {},
   "outputs": [
    {
     "name": "stdout",
     "output_type": "stream",
     "text": [
      "train accuracy: 100.0 %\n",
      "test accuracy: 100.0 %\n"
     ]
    }
   ],
   "source": [
    "d = model(train_set_x, train_set_y_orig, test_set_x, test_set_y_orig, num_iterations = 5000, learning_rate = 0.005, print_cost=False)"
   ]
  },
  {
   "cell_type": "markdown",
   "id": "a7164981",
   "metadata": {},
   "source": [
    "visualise an image "
   ]
  },
  {
   "cell_type": "code",
   "execution_count": 76,
   "id": "d8bc75ad",
   "metadata": {},
   "outputs": [
    {
     "name": "stdout",
     "output_type": "stream",
     "text": [
      "Actual label (y) = 0\n",
      "Predicted label = 0.0\n"
     ]
    },
    {
     "data": {
      "image/png": "[encoded data removed]",
      "text/plain": [
       "<Figure size 640x480 with 1 Axes>"
      ]
     },
     "metadata": {},
     "output_type": "display_data"
    }
   ],
   "source": [
    "# Example of a picture that was wrongly classified.\n",
    "index = 16\n",
    "plt.imshow(test_set_x[:, index].reshape((num_px, num_px, 3)))\n",
    "actual_label = test_set_y_orig[0, index]\n",
    "predicted_label = d[\"Y_prediction_test\"][0, index]\n",
    "\n",
    "print(\"Actual label (y) = \" + str(actual_label))\n",
    "print(\"Predicted label = \" + str(predicted_label))\n"
   ]
  },
  {
   "cell_type": "markdown",
   "id": "66c7d695",
   "metadata": {},
   "source": [
    "plotting cost function and gradients"
   ]
  },
  {
   "cell_type": "code",
   "execution_count": 77,
   "id": "3adbed6d",
   "metadata": {},
   "outputs": [
    {
     "data": {
      "image/png": "[encoded data removed]",
      "text/plain": [
       "<Figure size 640x480 with 1 Axes>"
      ]
     },
     "metadata": {},
     "output_type": "display_data"
    }
   ],
   "source": [
    "# Plot learning curve (with costs)\n",
    "costs = np.squeeze(d['costs'])\n",
    "plt.plot(costs)\n",
    "plt.ylabel('cost')\n",
    "plt.xlabel('iterations (per hundreds)')\n",
    "plt.title(\"Learning rate =\" + str(d[\"learning_rate\"]))\n",
    "plt.show()"
   ]
  },
  {
   "cell_type": "markdown",
   "id": "d99e9a7b",
   "metadata": {},
   "source": [
    "\n",
    "The curve  plotted between the number of iterations and cost is a visualization of how a logistic regression model is learning. It shows the cost function, which measures how well your model is performing, as it updates its parameters over time.\n",
    "\n",
    "The specific shape of the curve can tells a lot about how well your model is learning:\n",
    "\n",
    "A steep descent followed by a gradual decline: This is the ideal scenario. It means that the  model is quickly learning and then fine-tuning its parameters to minimize the cost function.\n",
    "A shallow descent followed by a plateau: This could mean that the model is not learning effectively, or that it has reached a local minimum in the cost function.\n",
    "A curve that oscillates up and down: This could mean that the learning rate is too high. The model is taking too large steps and overshooting the minimum of the cost function.\n",
    "In this case, the curve starts off with a steep descent, but then it starts to plateau around iteration 10. This suggests that themodel is learning well at first, but then it starts to get stuck in a local minimum. we can try decreasing the learning rate or using a different optimization algorithm to see if you can get the model to converge to a lower cost."
   ]
  },
  {
   "cell_type": "code",
   "execution_count": 84,
   "id": "bc45b8e9",
   "metadata": {},
   "outputs": [],
   "source": [
    "# GRADED FUNCTION: model\n",
    "\n",
    "def model(X_train, Y_train, X_test, Y_test, num_iterations = 1000, learning_rate = 0.5, print_cost = False):\n",
    "    w, b = initialize_with_zeros(X_train.shape[0])\n",
    "\n",
    "    # Gradient descent (≈ 1 line of code)\n",
    "    parameters, grads, costs = optimize(w, b, X_train, Y_train, num_iterations, learning_rate, print_cost)\n",
    "    \n",
    "    # Retrieve parameters w and b from dictionary \"parameters\"\n",
    "    w = parameters[\"w\"]\n",
    "    b = parameters[\"b\"]\n",
    "    \n",
    "    # Predict test/train set examples (≈ 2 lines of code)\n",
    "    Y_prediction_test = predict(w, b, X_test)\n",
    "    Y_prediction_train = predict(w, b, X_train)\n",
    "    ### END CODE HERE ###\n",
    "    # Print train/test Errors\n",
    "    print(\"train accuracy: {} %\".format(100 - np.mean(np.abs(Y_prediction_train - Y_train)) * 100))\n",
    "    print(\"test accuracy: {} %\".format(100 - np.mean(np.abs(Y_prediction_test - Y_test)) * 100))\n",
    "\n",
    "    \n",
    "    d = {\"costs\": costs,\n",
    "         \"Y_prediction_test\": Y_prediction_test, \n",
    "         \"Y_prediction_train\" : Y_prediction_train, \n",
    "         \"w\" : w, \n",
    "         \"b\" : b,\n",
    "         \"learning_rate\" : learning_rate,\n",
    "         \"num_iterations\": num_iterations}\n",
    "    return d"
   ]
  },
  {
   "cell_type": "code",
   "execution_count": 85,
   "id": "cc7994eb",
   "metadata": {},
   "outputs": [
    {
     "name": "stdout",
     "output_type": "stream",
     "text": [
      "train accuracy: 100.0 %\n",
      "test accuracy: 100.0 %\n"
     ]
    }
   ],
   "source": [
    "d = model(train_set_x, train_set_y_orig, test_set_x, test_set_y_orig, num_iterations = 1000, learning_rate = 0.002, print_cost=False)"
   ]
  },
  {
   "cell_type": "code",
   "execution_count": 89,
   "id": "172a50f0",
   "metadata": {},
   "outputs": [
    {
     "data": {
      "image/png": "[encoded data removed]",
      "text/plain": [
       "<Figure size 640x480 with 1 Axes>"
      ]
     },
     "metadata": {},
     "output_type": "display_data"
    }
   ],
   "source": [
    "# Plot learning curve (with costs)\n",
    "costs = np.squeeze(d['costs'])\n",
    "plt.plot(costs)\n",
    "plt.ylabel('cost' ,color=\"blue\")\n",
    "plt.xlabel('iterations (per hundreds)')\n",
    "plt.title(\"Learning rate =\" + str(d[\"learning_rate\"]))\n",
    "plt.show()"
   ]
  }
 ],
 "metadata": {
  "kernelspec": {
   "display_name": "Python 3 (ipykernel)",
   "language": "python",
   "name": "python3"
  },
  "language_info": {
   "codemirror_mode": {
    "name": "ipython",
    "version": 3
   },
   "file_extension": ".py",
   "mimetype": "text/x-python",
   "name": "python",
   "nbconvert_exporter": "python",
   "pygments_lexer": "ipython3",
   "version": "3.11.0"
  }
 },
 "nbformat": 4,
 "nbformat_minor": 5
}
