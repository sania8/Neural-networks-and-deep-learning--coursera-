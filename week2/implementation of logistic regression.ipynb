{
 "cells": [
  {
   "cell_type": "raw",
   "id": "f74c1302",
   "metadata": {},
   "source": [
    "importing all the necessary modules / packages\n"
   ]
  },
  {
   "cell_type": "code",
   "execution_count": 1,
   "id": "417da7c3",
   "metadata": {},
   "outputs": [],
   "source": [
    "import numpy as np\n",
    "import matplotlib.pyplot as plt\n",
    "import scipy\n",
    "from PIL import Image\n",
    "from scipy import ndimage\n",
    "%matplotlib inline\n"
   ]
  },
  {
   "cell_type": "raw",
   "id": "7ccb9f12",
   "metadata": {},
   "source": [
    "implementation of sigmoid function"
   ]
  },
  {
   "cell_type": "code",
   "execution_count": 2,
   "id": "d711d1d4",
   "metadata": {},
   "outputs": [],
   "source": [
    "#implementation of sigmoid function\n",
    "def sigmoid(z):\n",
    "    s = 1/(1+np.exp(-z))\n",
    "    return s "
   ]
  },
  {
   "cell_type": "raw",
   "id": "a4ebc2f3",
   "metadata": {},
   "source": [
    "initialise the model parameters"
   ]
  },
  {
   "cell_type": "code",
   "execution_count": 3,
   "id": "9ceb00cf",
   "metadata": {},
   "outputs": [],
   "source": [
    "#initialse the model parameters\n",
    "def initialise_with_zeros(m):\n",
    "    w = np.zeros((m,1))\n",
    "    b = 0\n",
    "    return w,b\n",
    "#here w is a m dimenion array with m columns and 1 row \n"
   ]
  },
  {
   "cell_type": "code",
   "execution_count": 4,
   "id": "3ada75d1",
   "metadata": {},
   "outputs": [
    {
     "name": "stdout",
     "output_type": "stream",
     "text": [
      "[[0.]\n",
      " [0.]\n",
      " [0.]\n",
      " [0.]\n",
      " [0.]\n",
      " [0.]\n",
      " [0.]]\n"
     ]
    }
   ],
   "source": [
    "# example of using .zeros() function with numpy\n",
    "import numpy as np\n",
    "m = 7\n",
    "w = np.zeros((m,1))\n",
    "print(w)\n"
   ]
  },
  {
   "cell_type": "raw",
   "id": "c76575af",
   "metadata": {},
   "source": [
    "the next step is to implement the function called propagate() that learns about variable and backward() to learn about gradient and cost function"
   ]
  },
  {
   "cell_type": "code",
   "execution_count": 5,
   "id": "8352ad8d",
   "metadata": {},
   "outputs": [],
   "source": [
    "def propagate(w , b, X, Y):\n",
    "    m = X.shape[1]\n",
    "    # forward propagation\n",
    "    A = sigmoid(np.dot(w.T, X)+ b) # compute activation\n",
    "    cost = -(1/m)*(np.sum((Y*np.log(A)) + (1-Y) *np.log(1-A)))\n",
    "    # backward propagation\n",
    "    dw = (1/m)* np.dot(X, ((A-Y).T))\n",
    "    db = (1/m) * np.sum(A-Y)\n",
    "    grads = {\"dw\": dw, \"db\": db}\n",
    "    return grads, cost"
   ]
  },
  {
   "cell_type": "raw",
   "id": "ecdb1934",
   "metadata": {},
   "source": [
    "Having established the output and the cost function, we will need to optimize our algorithm by updating our parameters with gradient descent. This will reduce cost function and minimize loss."
   ]
  },
  {
   "cell_type": "code",
   "execution_count": 7,
   "id": "d6596df7",
   "metadata": {},
   "outputs": [],
   "source": [
    "def predict(w, b, X):\n",
    "    # Arguments:\n",
    " #w — weights, a numpy array of size (num_px * num_px * 3, 1)\n",
    " #b — bias, a scalar\n",
    " #X — data of size (num_px * num_px * 3, number of examples)\n",
    "    m = X.shape[1]\n",
    "    Y_prediction = np.zeros((1,m))\n",
    "    w = w.reshape(X.shape[0], 1)\n",
    "    A = sigmoid(np.dot(w.T, X) + b)\n",
    "    for i in range(A.shape[1]):\n",
    "     # Convert probabilities A[0,i] to actual predictions p[0,i]\n",
    "         Y_prediction[0,i] = 1 if A[0, i] > 0.5 else 0\n",
    "    pass\n",
    "    return Y_prediction\n",
    " \n"
   ]
  },
  {
   "cell_type": "raw",
   "id": "7835840e",
   "metadata": {},
   "source": [
    "Putting it all together to form a model"
   ]
  },
  {
   "cell_type": "code",
   "execution_count": 8,
   "id": "2887eef8",
   "metadata": {},
   "outputs": [],
   "source": [
    "def model(X_train, Y_train, X_test, Y_test, num_iterations=2000, learning_rate=0.5, print_cost=False):\n",
    "    w, b = initialize_with_zeros(X_train.shape[0])\n",
    "    parameters, grads, cost = optimize(w, b, X_train, Y_train, num_iterations, learning_rate, print_cost)\n",
    "    w = parameters[\"w\"]\n",
    "    b = parameters[\"b\"]\n",
    "    # Predict test/train set examples\n",
    "    Y_prediction_test = predict(w, b, X_test)\n",
    "    Y_prediction_train = predict(w, b, X_train)\n",
    "    # Print train/test Errors\n",
    "    print(\"train accuracy: {} %\".format(100 - np.mean(np.abs(Y_prediction_train - Y_train)) * 100))\n",
    "    print(\"test accuracy: {} %\".format(100 - np.mean(np.abs(Y_prediction_test - Y_test)) * 100))\n",
    "    d = {\"costs\": costs, \"Y_prediction_test\": Y_prediction_test, \"Y_prediction_train\": Y_prediction_train, \"w\": w, \"b\": b, \"learning_rate\": learning_rate, \"num_iterations\": num_iterations}\n",
    "    return d\n"
   ]
  },
  {
   "cell_type": "code",
   "execution_count": 9,
   "id": "34374b12",
   "metadata": {},
   "outputs": [],
   "source": [
    "import numpy as np\n",
    "import matplotlib.pyplot as plt\n",
    "from PIL import Image\n",
    "\n",
    "# Implementation of sigmoid function\n",
    "def sigmoid(z):\n",
    "    s = 1 / (1 + np.exp(-z))\n",
    "    return s \n",
    "\n",
    "# Initialize the model parameters\n",
    "def initialize_with_zeros(m):\n",
    "    w = np.zeros((m, 1))\n",
    "    b = 0\n",
    "    return w, b\n",
    "\n",
    "# Forward and Backward Propagation\n",
    "def propagate(w, b, X, Y):\n",
    "    m = X.shape[1]\n",
    "    \n",
    "    # Forward propagation\n",
    "    A = sigmoid(np.dot(w.T, X) + b)\n",
    "    cost = -(1/m) * np.sum((Y * np.log(A)) + (1 - Y) * np.log(1 - A))\n",
    "    \n",
    "    # Backward propagation\n",
    "    dw = (1/m) * np.dot(X, (A - Y).T)\n",
    "    db = (1/m) * np.sum(A - Y)\n",
    "    \n",
    "    grads = {\"dw\": dw, \"db\": db}\n",
    "    \n",
    "    return grads, cost\n",
    "\n",
    "# Predict function\n",
    "def predict(w, b, X):\n",
    "    m = X.shape[1]\n",
    "    Y_prediction = np.zeros((1, m))\n",
    "    \n",
    "    w = w.reshape(X.shape[0], 1)\n",
    "    A = sigmoid(np.dot(w.T, X) + b)\n",
    "    \n",
    "    for i in range(A.shape[1]):\n",
    "        # Convert probabilities A[0,i] to actual predictions Y_prediction[0,i]\n",
    "        Y_prediction[0, i] = 1 if A[0, i] > 0.5 else 0\n",
    "    \n",
    "    return Y_prediction\n",
    "\n",
    "# Model function\n",
    "def model(X_train, Y_train, X_test, Y_test, num_iterations=2000, learning_rate=0.5, print_cost=False):\n",
    "    w, b = initialize_with_zeros(X_train.shape[0])\n",
    "    \n",
    "    for i in range(num_iterations):\n",
    "        grads, cost = propagate(w, b, X_train, Y_train)\n",
    "        \n",
    "        # Retrieve derivatives from grads\n",
    "        dw = grads[\"dw\"]\n",
    "        db = grads[\"db\"]\n",
    "        \n",
    "        # Update parameters\n",
    "        w = w - learning_rate * dw\n",
    "        b = b - learning_rate * db\n",
    "        \n",
    "        # Print the cost every 100 training iterations\n",
    "        if print_cost and i % 100 == 0:\n",
    "            print(\"Cost after iteration {}: {}\".format(i, cost))\n",
    "    \n",
    "    # Training and test set predictions\n",
    "    Y_prediction_train = predict(w, b, X_train)\n",
    "    Y_prediction_test = predict(w, b, X_test)\n",
    "    \n",
    "    # Print train/test accuracy\n",
    "    train_accuracy = 100 - np.mean(np.abs(Y_prediction_train - Y_train)) * 100\n",
    "    test_accuracy = 100 - np.mean(np.abs(Y_prediction_test - Y_test)) * 100\n",
    "    print(\"Train accuracy: {} %\".format(train_accuracy))\n",
    "    print(\"Test accuracy: {} %\".format(test_accuracy))\n",
    "    \n",
    "    d = {\"w\": w, \"b\": b, \"Y_prediction_train\": Y_prediction_train, \"Y_prediction_test\": Y_prediction_test, \"cost\": cost, \"learning_rate\": learning_rate, \"num_iterations\": num_iterations}\n",
    "\n",
    "    \n",
    "    return d"
   ]
  },
  {
   "cell_type": "code",
   "execution_count": 10,
   "id": "8d31bd66",
   "metadata": {},
   "outputs": [
    {
     "name": "stdout",
     "output_type": "stream",
     "text": [
      "Cost after iteration 0: 0.6931471805599454\n",
      "Cost after iteration 100: 0.6545032093835844\n",
      "Cost after iteration 200: 0.654503209095601\n",
      "Cost after iteration 300: 0.654503209095601\n",
      "Cost after iteration 400: 0.654503209095601\n",
      "Cost after iteration 500: 0.654503209095601\n",
      "Cost after iteration 600: 0.654503209095601\n",
      "Cost after iteration 700: 0.654503209095601\n",
      "Cost after iteration 800: 0.654503209095601\n",
      "Cost after iteration 900: 0.654503209095601\n",
      "Cost after iteration 1000: 0.654503209095601\n",
      "Cost after iteration 1100: 0.654503209095601\n",
      "Cost after iteration 1200: 0.654503209095601\n",
      "Cost after iteration 1300: 0.654503209095601\n",
      "Cost after iteration 1400: 0.654503209095601\n",
      "Cost after iteration 1500: 0.654503209095601\n",
      "Cost after iteration 1600: 0.654503209095601\n",
      "Cost after iteration 1700: 0.654503209095601\n",
      "Cost after iteration 1800: 0.654503209095601\n",
      "Cost after iteration 1900: 0.654503209095601\n",
      "Train accuracy: 56.25 %\n",
      "Test accuracy: 55.0 %\n"
     ]
    }
   ],
   "source": [
    "# Generate random training data\n",
    "np.random.seed(42)\n",
    "X_train = np.random.randn(3, 80)\n",
    "Y_train = np.random.randint(0, 2, (1, 80))\n",
    "\n",
    "# Generate random test data\n",
    "X_test = np.random.randn(3, 20)\n",
    "Y_test = np.random.randint(0, 2, (1, 20))\n",
    "\n",
    "# Run the model\n",
    "result = model(X_train, Y_train, X_test, Y_test, num_iterations=2000, learning_rate=0.5, print_cost=True)\n",
    "\n",
    "\n"
   ]
  },
  {
   "cell_type": "code",
   "execution_count": 11,
   "id": "338eb7fe",
   "metadata": {},
   "outputs": [
    {
     "data": {
      "image/png": "[encoded data removed]",
      "text/plain": [
       "<Figure size 432x288 with 1 Axes>"
      ]
     },
     "metadata": {
      "needs_background": "light"
     },
     "output_type": "display_data"
    }
   ],
   "source": [
    "import numpy as np\n",
    "import matplotlib.pyplot as plt\n",
    "\n",
    "# Generate random training data\n",
    "np.random.seed(42)\n",
    "X_train = np.random.randn(3, 80)  # 3 features, 80 examples\n",
    "Y_train = np.random.randint(0, 2, (1, 80))  # Binary labels (0 or 1), 80 examples\n",
    "\n",
    "# Visualize the generated data\n",
    "plt.scatter(X_train[0, :], X_train[1, :], c=Y_train, cmap=plt.cm.Spectral)\n",
    "plt.xlabel('Feature 1')\n",
    "plt.ylabel('Feature 2')\n",
    "plt.title('Generated Training Data')\n",
    "plt.show()"
   ]
  },
  {
   "cell_type": "code",
   "execution_count": null,
   "id": "0e06a35c",
   "metadata": {},
   "outputs": [],
   "source": []
  }
 ],
 "metadata": {
  "kernelspec": {
   "display_name": "Python 3 (ipykernel)",
   "language": "python",
   "name": "python3"
  },
  "language_info": {
   "codemirror_mode": {
    "name": "ipython",
    "version": 3
   },
   "file_extension": ".py",
   "mimetype": "text/x-python",
   "name": "python",
   "nbconvert_exporter": "python",
   "pygments_lexer": "ipython3",
   "version": "3.10.5"
  }
 },
 "nbformat": 4,
 "nbformat_minor": 5
}
