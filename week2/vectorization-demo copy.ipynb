{
 "cells": [
  {
   "cell_type": "code",
   "execution_count": 2,
   "id": "6fc8ce8d",
   "metadata": {},
   "outputs": [
    {
     "name": "stdout",
     "output_type": "stream",
     "text": [
      "[1 2 3 4]\n"
     ]
    }
   ],
   "source": [
    "import numpy as np\n",
    "a = np.array([1,2,3,4])\n",
    "print(a)"
   ]
  },
  {
   "cell_type": "code",
   "execution_count": 4,
   "id": "9a40731a",
   "metadata": {},
   "outputs": [
    {
     "name": "stdout",
     "output_type": "stream",
     "text": [
      "Enter the range:5000000\n",
      "1249734.4341245852\n",
      "Vectorized version:2.992391586303711ms\n",
      "1249734.4341243736\n",
      "Vectorized version:1840.0068283081055ms\n"
     ]
    }
   ],
   "source": [
    "import time\n",
    "import numpy as np\n",
    "import matplotlib.pyplot as plt\n",
    "import csv\n",
    "import os\n",
    "csv_folder =\"C:/Users/HP/Downloads/vector\"\n",
    "if not os.path.exists(csv_folder):\n",
    "    os.makedirs(csv_folder)\n",
    "csv_filename = os.path.join(csv_folder, \"first.csv\")\n",
    "csv_filename1 = os.path.join(csv_folder, \"second.csv\")\n",
    "# vectorization method\n",
    "n = int(input(\"Enter the range:\"))\n",
    "a = np.random.rand(n)\n",
    "b = np.random.rand(n)\n",
    "tic = time.time()\n",
    "c = np.dot(a,b)\n",
    "print(c)\n",
    "toc = time.time()\n",
    "a1 = str(1000*(toc-tic))\n",
    "print(\"Vectorized version:\" + a1 +\"ms\")\n",
    "# non-vectorization method\n",
    "c1 = 0\n",
    "tic1 = time.time()\n",
    "for i in range(n):\n",
    "    c1+= a[i]*b[i]\n",
    "toc1 = time.time()\n",
    "print(c1)\n",
    "a2 = str(1000*(toc1-tic1))\n",
    "print(\"Vectorized version:\" + a2 +\"ms\")\n",
    "\n",
    "# writing data into csv files\n",
    "# Write the results to CSV files\n",
    "with open(csv_filename, mode='a', newline='') as csvfile:\n",
    "    fieldnames = ['n', 'Execution Time']\n",
    "    writer = csv.DictWriter(csvfile, fieldnames=fieldnames)\n",
    "\n",
    "    # Write the header\n",
    "   \n",
    "\n",
    "    # Write the data for bubble sort\n",
    "    writer.writerow({'n': n, 'Execution Time': a1})\n",
    "\n",
    "with open(csv_filename1, mode='a', newline='') as csvfile:\n",
    "    fieldnames = ['n', 'Execution Time']\n",
    "    writer = csv.DictWriter(csvfile, fieldnames=fieldnames)\n",
    "\n",
    "    # Write the header\n",
    "    \n",
    "\n",
    "    # Write the data for selection sort\n",
    "    writer.writerow({'n': n, 'Execution Time': a2})\n"
   ]
  },
  {
   "cell_type": "raw",
   "id": "48e21a57",
   "metadata": {},
   "source": [
    "plot both files on  csv and analyze the curves"
   ]
  },
  {
   "cell_type": "code",
   "execution_count": 1,
   "id": "fd266103",
   "metadata": {},
   "outputs": [
    {
     "data": {
      "image/png": "[encoded data removed]",
      "text/plain": [
       "<Figure size 432x288 with 1 Axes>"
      ]
     },
     "metadata": {
      "needs_background": "light"
     },
     "output_type": "display_data"
    }
   ],
   "source": [
    "import matplotlib.pyplot as plt\n",
    "import pandas as pd\n",
    "import os\n",
    "\n",
    "def plot_csv_files(file_paths):\n",
    "    # Define a list of colors for each plot\n",
    "    colors = ['green']\n",
    "\n",
    "    # Iterate over each file\n",
    "    for i, file_path in enumerate(file_paths):\n",
    "        # Read data from the CSV file\n",
    "        data = pd.read_csv(file_path)\n",
    "\n",
    "        # Extract the file name from the file path without extension\n",
    "        file_name = os.path.splitext(os.path.basename(file_path))[0]\n",
    "\n",
    "        # Assuming the CSV has columns named 'n' and 'Execution Time'\n",
    "        n = data['n']\n",
    "        execution_time = data['Execution Time']\n",
    "\n",
    "        # Plot the data with a different color and use file name as label\n",
    "        plt.plot(n, execution_time, label=f'{file_name}', color=colors[i])\n",
    "\n",
    "    # Add labels and legend\n",
    "    plt.xlabel('number of inputs', color=\"blue\")\n",
    "    plt.ylabel('Execution Time', color=\"blue\")\n",
    "    plt.title('Vectorization method', color=\"purple\")\n",
    "    plt.legend()\n",
    "\n",
    "    # Show the plot\n",
    "    plt.show()\n",
    "\n",
    "# Example usage:\n",
    "csv_file_path1 = \"C:/Users/HP/Downloads/vector/first.csv\"\n",
    "\n",
    "\n",
    "plot_csv_files([csv_file_path1])\n"
   ]
  },
  {
   "cell_type": "code",
   "execution_count": 2,
   "id": "42edd3d1",
   "metadata": {},
   "outputs": [
    {
     "data": {
      "image/png": "[encoded data removed]",
      "text/plain": [
       "<Figure size 432x288 with 1 Axes>"
      ]
     },
     "metadata": {
      "needs_background": "light"
     },
     "output_type": "display_data"
    }
   ],
   "source": [
    "import matplotlib.pyplot as plt\n",
    "import pandas as pd\n",
    "import os\n",
    "\n",
    "def plot_csv_files(file_paths):\n",
    "    # Define a list of colors for each plot\n",
    "    colors = ['red', 'green']\n",
    "\n",
    "    # Iterate over each file\n",
    "    for i, file_path in enumerate(file_paths):\n",
    "        # Read data from the CSV file\n",
    "        data = pd.read_csv(file_path)\n",
    "\n",
    "        # Extract the file name from the file path without extension\n",
    "        file_name = os.path.splitext(os.path.basename(file_path))[0]\n",
    "\n",
    "        # Assuming the CSV has columns named 'n' and 'Execution Time'\n",
    "        n = data['n']\n",
    "        execution_time = data['Execution Time']\n",
    "\n",
    "        # Plot the data with a different color and use file name as label\n",
    "        plt.plot(n, execution_time, label=f'{file_name}', color=colors[i])\n",
    "\n",
    "    # Add labels and legend\n",
    "    plt.xlabel('number of inputs', color=\"blue\")\n",
    "    plt.ylabel('Execution Time', color=\"blue\")\n",
    "    plt.title('Non-vectoriaztion method', color=\"purple\")\n",
    "    plt.legend()\n",
    "\n",
    "    # Show the plot\n",
    "    plt.show()\n",
    "\n",
    "# Example usage:\n",
    "csv_file_path1 = \"C:/Users/HP/Downloads/vector/second.csv\"\n",
    "\n",
    "\n",
    "plot_csv_files([csv_file_path1])\n"
   ]
  },
  {
   "cell_type": "raw",
   "id": "4fadd9a9",
   "metadata": {},
   "source": [
    "Another example of comparing execution time for vectorised method and non-vectorised method :- lets say i want to find the exponent of every value present inside the array "
   ]
  },
  {
   "cell_type": "code",
   "execution_count": 3,
   "id": "20ba5b19",
   "metadata": {},
   "outputs": [
    {
     "name": "stdout",
     "output_type": "stream",
     "text": [
      "Execution Time:11.241436004638672ms\n"
     ]
    }
   ],
   "source": [
    "# Non-vectorised method\n",
    "import numpy as np\n",
    "import math\n",
    "import time\n",
    "n = 5000\n",
    "v = np.random.rand(n)\n",
    "u = np.zeros((n, 1))\n",
    "t1 = time.time()\n",
    "for i in range(n):\n",
    "    u[i] = math.exp(v[i])\n",
    "t2 = time.time()\n",
    "print(\"Execution Time:\" +str(1000*(t2-t1))+\"ms\")\n",
    "\n"
   ]
  },
  {
   "cell_type": "code",
   "execution_count": 13,
   "id": "05c682c7",
   "metadata": {},
   "outputs": [
    {
     "name": "stdout",
     "output_type": "stream",
     "text": [
      "Execution Time:1.127481460571289ms\n"
     ]
    }
   ],
   "source": [
    "#Vectorised method\n",
    "import numpy as np\n",
    "import math\n",
    "import time\n",
    "n = 5000\n",
    "v = np.random.rand(n)\n",
    "u = np.zeros((n, 1))\n",
    "t1 = time.time()\n",
    "u = np.exp(v)\n",
    "t2 = time.time()\n",
    "print(\"Execution Time:\" +str(1000*(t2-t1))+\"ms\")"
   ]
  }
 ],
 "metadata": {
  "kernelspec": {
   "display_name": "Python 3 (ipykernel)",
   "language": "python",
   "name": "python3"
  },
  "language_info": {
   "codemirror_mode": {
    "name": "ipython",
    "version": 3
   },
   "file_extension": ".py",
   "mimetype": "text/x-python",
   "name": "python",
   "nbconvert_exporter": "python",
   "pygments_lexer": "ipython3",
   "version": "3.10.5"
  }
 },
 "nbformat": 4,
 "nbformat_minor": 5
}
